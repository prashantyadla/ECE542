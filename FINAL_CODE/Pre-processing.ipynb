{
 "cells": [
  {
   "cell_type": "code",
   "execution_count": 3,
   "metadata": {},
   "outputs": [],
   "source": [
    "import scipy.io as sio\n",
    "import os"
   ]
  },
  {
   "cell_type": "code",
   "execution_count": 4,
   "metadata": {},
   "outputs": [],
   "source": [
    "mat_contents = sio.loadmat('gTruth_merged_remapped.mat', squeeze_me=True)"
   ]
  },
  {
   "cell_type": "code",
   "execution_count": 6,
   "metadata": {},
   "outputs": [
    {
     "name": "stdout",
     "output_type": "stream",
     "text": [
      "[(b'gTruth', b'MCOS', b'groundTruth', array([3707764736,          2,          1,          1,          1,\n",
      "                4], dtype=uint32))]\n"
     ]
    }
   ],
   "source": [
    "print(mat_contents['None'])"
   ]
  },
  {
   "cell_type": "code",
   "execution_count": 8,
   "metadata": {},
   "outputs": [
    {
     "name": "stdout",
     "output_type": "stream",
     "text": [
      "['y20m02d17_selected', 'y19m12d15_selected', 'y20m02d28_selected', 'y20m02d29_selected', 'y19m12d20_selected', 'y19m12d21_selected', 'y20m02d01_selected', 'y20m03d03_selected', 'y20m03d02_selected', 'y20m03d04_selected', 'y19m12d13_selected', 'y19m12d12_selected', 'y20m02d11_selected', 'y20m02d10_selected', 'y19m12d19_selected', 'y19m12d18_selected', 'y20m02d25_selected', 'y20m02d24_selected', 'y20m02d09_selected', 'y20m02d03_selected', 'y20m03d01_selected', 'y20m02d15_selected', 'y19m12d17_selected', 'y19m12d16_selected', 'y20m02d26_selected', 'y20m02d27_selected', 'y19m12d11_selected', 'y20m02d12_selected', 'y20m02d13_selected']\n"
     ]
    }
   ],
   "source": [
    "print(os.listdir(\"NNDL_Final_Project/Data\"))"
   ]
  },
  {
   "cell_type": "code",
   "execution_count": 9,
   "metadata": {},
   "outputs": [
    {
     "name": "stdout",
     "output_type": "stream",
     "text": [
      "74\n"
     ]
    }
   ],
   "source": [
    "print(len(os.listdir(\"Data/y20m02d17_selected\")))"
   ]
  },
  {
   "cell_type": "code",
   "execution_count": 10,
   "metadata": {},
   "outputs": [
    {
     "name": "stdout",
     "output_type": "stream",
     "text": [
      "21\n"
     ]
    }
   ],
   "source": [
    "print(len(os.listdir(\"Data/y19m12d15_selected\")))"
   ]
  },
  {
   "cell_type": "code",
   "execution_count": 11,
   "metadata": {},
   "outputs": [
    {
     "name": "stdout",
     "output_type": "stream",
     "text": [
      "10\n"
     ]
    }
   ],
   "source": [
    "print(len(os.listdir(\"Data/y20m02d28_selected\")))"
   ]
  },
  {
   "cell_type": "code",
   "execution_count": 12,
   "metadata": {},
   "outputs": [
    {
     "name": "stdout",
     "output_type": "stream",
     "text": [
      "10\n"
     ]
    }
   ],
   "source": [
    "print(len(os.listdir(\"Data/y20m02d29_selected\")))"
   ]
  },
  {
   "cell_type": "code",
   "execution_count": 13,
   "metadata": {},
   "outputs": [
    {
     "name": "stdout",
     "output_type": "stream",
     "text": [
      "15\n"
     ]
    }
   ],
   "source": [
    "print(len(os.listdir(\"Data/y19m12d20_selected\")))"
   ]
  },
  {
   "cell_type": "code",
   "execution_count": 16,
   "metadata": {},
   "outputs": [
    {
     "name": "stdout",
     "output_type": "stream",
     "text": [
      "['y20m02d17_selected', 'y19m12d15_selected', 'y20m02d28_selected', 'y20m02d29_selected', 'y19m12d20_selected', 'y19m12d21_selected', 'y20m02d01_selected', '.DS_Store', 'y20m03d03_selected', 'y20m03d02_selected', 'y20m03d04_selected', 'y19m12d13_selected', 'y19m12d12_selected', 'y20m02d11_selected', 'y20m02d10_selected', 'y19m12d19_selected', 'y19m12d18_selected', 'y20m02d25_selected', 'y20m02d24_selected', 'y20m02d09_selected', 'y20m02d03_selected', 'y20m03d01_selected', 'y20m02d15_selected', 'y19m12d17_selected', 'y19m12d16_selected', 'y20m02d26_selected', 'y20m02d27_selected', 'y19m12d11_selected', 'y20m02d12_selected', 'y20m02d13_selected']\n"
     ]
    }
   ],
   "source": [
    "print((os.listdir(\"Data/\")))"
   ]
  },
  {
   "cell_type": "code",
   "execution_count": 9,
   "metadata": {},
   "outputs": [
    {
     "name": "stdout",
     "output_type": "stream",
     "text": [
      "y20m02d17_selected\n",
      "y19m12d15_selected\n",
      "y20m02d28_selected\n",
      "y20m02d29_selected\n",
      "y19m12d20_selected\n",
      "y19m12d21_selected\n",
      "y20m02d01_selected\n",
      "y20m03d03_selected\n",
      "y20m03d02_selected\n",
      "y20m03d04_selected\n",
      "y19m12d13_selected\n",
      "y19m12d12_selected\n",
      "y20m02d11_selected\n",
      "y20m02d10_selected\n",
      "y19m12d19_selected\n",
      "y19m12d18_selected\n",
      "y20m02d25_selected\n",
      "y20m02d24_selected\n",
      "y20m02d09_selected\n",
      "y20m02d03_selected\n",
      "y20m03d01_selected\n",
      "y20m02d15_selected\n",
      "y19m12d17_selected\n",
      "y19m12d16_selected\n",
      "y20m02d26_selected\n",
      "y20m02d27_selected\n",
      "y19m12d11_selected\n",
      "y20m02d12_selected\n",
      "y20m02d13_selected\n"
     ]
    }
   ],
   "source": [
    "for dir in os.listdir(\"NNDL_Final_Project/Data\"):\n",
    "    print(dir)"
   ]
  },
  {
   "cell_type": "code",
   "execution_count": 11,
   "metadata": {},
   "outputs": [
    {
     "name": "stdout",
     "output_type": "stream",
     "text": [
      "476\n"
     ]
    }
   ],
   "source": [
    "images = []\n",
    "for dir in os.listdir(\"NNDL_Final_Project/Data\"):\n",
    "    for file in os.listdir(\"NNDL_Final_Project/Data/\"+dir):\n",
    "        images.append(file)\n",
    "\n",
    "print(len(images))"
   ]
  },
  {
   "cell_type": "code",
   "execution_count": null,
   "metadata": {},
   "outputs": [],
   "source": []
  }
 ],
 "metadata": {
  "kernelspec": {
   "display_name": "Python 3",
   "language": "python",
   "name": "python3"
  },
  "language_info": {
   "codemirror_mode": {
    "name": "ipython",
    "version": 3
   },
   "file_extension": ".py",
   "mimetype": "text/x-python",
   "name": "python",
   "nbconvert_exporter": "python",
   "pygments_lexer": "ipython3",
   "version": "3.7.5"
  }
 },
 "nbformat": 4,
 "nbformat_minor": 4
}
